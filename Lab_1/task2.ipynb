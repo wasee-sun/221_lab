{
 "cells": [
  {
   "cell_type": "code",
   "execution_count": 4,
   "metadata": {},
   "outputs": [],
   "source": [
    "def bubbleSort1(arr):                                                    \n",
    "    for i in range(len(arr)-1):\n",
    "        for j in range(len(arr)-i-1): \n",
    "            if arr[j] > arr[j+1]:\n",
    "                arr[j], arr[j+1] = arr[j+1], arr[j]\n",
    "                    \n",
    "    return arr\n",
    "                \n",
    "def bubbleSort2(arr):                                                    \n",
    "    for i in range(len(arr)-1):\n",
    "        if arr[i] > arr[i+1]:\n",
    "            arr[i], arr[i+1] = arr[i+1], arr[i]\n",
    "                    \n",
    "    return arr\n"
   ]
  },
  {
   "cell_type": "code",
   "execution_count": 5,
   "metadata": {},
   "outputs": [],
   "source": [
    "def sorting():\n",
    "    with open(\"output2.txt\", \"w\") as f2:\n",
    "        f2.write(\"\")\n",
    "    with open (\"input2.txt\", \"r\") as f1:\n",
    "        inp_no = 1\n",
    "        inputs = 0\n",
    "        arr = None\n",
    "        idx = 0\n",
    "        for line in f1:\n",
    "            if len(line.strip()) == 1:\n",
    "                inputs = int(line)\n",
    "                arr = [0] * inputs\n",
    "                continue\n",
    "            else:\n",
    "                val = \"\"\n",
    "                for ele in (line.strip() + \" \"):\n",
    "                    if ele == \" \":\n",
    "                        arr[idx] = int(val)\n",
    "                        idx += 1\n",
    "                        val = \"\"\n",
    "                    else:\n",
    "                        val += ele\n",
    "                with open (\"output2.txt\", \"a\") as f2:\n",
    "                    if inp_no != 2:\n",
    "                        for item in bubbleSort1(arr):\n",
    "                            f2.write(str(item) + \" \")\n",
    "                        f2.write(\"\\n\")\n",
    "                    else:\n",
    "                        for item in bubbleSort2(arr):\n",
    "                            f2.write(str(item) + \" \")\n",
    "                        f2.write(\"\\n\")\n",
    "                idx = 0\n",
    "                inp_no += 1"
   ]
  },
  {
   "cell_type": "code",
   "execution_count": 6,
   "metadata": {},
   "outputs": [],
   "source": [
    "sorting()"
   ]
  },
  {
   "cell_type": "code",
   "execution_count": null,
   "metadata": {},
   "outputs": [],
   "source": []
  }
 ],
 "metadata": {
  "kernelspec": {
   "display_name": "Python 3",
   "language": "python",
   "name": "python3"
  },
  "language_info": {
   "codemirror_mode": {
    "name": "ipython",
    "version": 3
   },
   "file_extension": ".py",
   "mimetype": "text/x-python",
   "name": "python",
   "nbconvert_exporter": "python",
   "pygments_lexer": "ipython3",
   "version": "3.11.2"
  }
 },
 "nbformat": 4,
 "nbformat_minor": 2
}
