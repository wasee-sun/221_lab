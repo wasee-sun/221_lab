{
 "cells": [
  {
   "cell_type": "code",
   "execution_count": 4,
   "metadata": {},
   "outputs": [],
   "source": [
    "def bubbleSort(arr):                                                    \n",
    "    for i in range(len(arr)-1):\n",
    "        for j in range(len(arr)-i-1):\n",
    "            train1 = arr[j][0]\n",
    "            train2 = arr[j + 1][0]\n",
    "            length1 = len(train1)\n",
    "            length2 = len(train2)\n",
    "            range_length = max(length1, length2)\n",
    "            idx1 = 0\n",
    "            idx2 = 0\n",
    "            if train1 == train2:\n",
    "                time1 = arr[j][-1]\n",
    "                time2 = arr[j + 1][-1]\n",
    "                for k in range(len(time1)): \n",
    "                    if time1[k] > time2[k]:\n",
    "                        break\n",
    "                    if time1[k] < time2[k]:\n",
    "                        arr[j], arr[j+1] = arr[j+1], arr[j]\n",
    "                        break\n",
    "            else:\n",
    "                for k in range(range_length): \n",
    "                    if idx1 == length1 or idx2 == length2:\n",
    "                        if length1 > length2:\n",
    "                            arr[j], arr[j+1] = arr[j+1], arr[j]\n",
    "                        break\n",
    "                    if train1[idx1] < train2[idx2]:\n",
    "                        break\n",
    "                    if train1[idx1] > train2[idx2]:\n",
    "                        arr[j], arr[j+1] = arr[j+1], arr[j]\n",
    "                        break\n",
    "                    idx1 += 1\n",
    "                    idx2 += 1\n",
    "                \n",
    "    return arr"
   ]
  },
  {
   "cell_type": "code",
   "execution_count": 5,
   "metadata": {},
   "outputs": [],
   "source": [
    "def train_schedule():\n",
    "    with open(\"input4.txt\", \"r\") as f1:\n",
    "        input_no = int(f1.readline().strip())\n",
    "        arr = [0] * input_no\n",
    "        idx = 0\n",
    "        for line in f1:\n",
    "            arr[idx] = line.strip().split()\n",
    "            idx += 1\n",
    "        with open(\"output4.txt\", \"w\") as f2:\n",
    "            for item in bubbleSort(arr):\n",
    "                f2.write(\" \".join(item))\n",
    "                f2.write(\"\\n\")\n",
    "            "
   ]
  },
  {
   "cell_type": "code",
   "execution_count": 6,
   "metadata": {},
   "outputs": [],
   "source": [
    "train_schedule()"
   ]
  },
  {
   "cell_type": "code",
   "execution_count": null,
   "metadata": {},
   "outputs": [],
   "source": []
  }
 ],
 "metadata": {
  "kernelspec": {
   "display_name": "Python 3",
   "language": "python",
   "name": "python3"
  },
  "language_info": {
   "codemirror_mode": {
    "name": "ipython",
    "version": 3
   },
   "file_extension": ".py",
   "mimetype": "text/x-python",
   "name": "python",
   "nbconvert_exporter": "python",
   "pygments_lexer": "ipython3",
   "version": "3.11.2"
  }
 },
 "nbformat": 4,
 "nbformat_minor": 2
}
