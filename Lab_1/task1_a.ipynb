{
 "cells": [
  {
   "cell_type": "code",
   "execution_count": 1,
   "metadata": {},
   "outputs": [],
   "source": [
    "#task 1a\n",
    "def odd_even():\n",
    "    with open(\"input1a.txt\", \"r\") as f1:\n",
    "        with open(\"output1a.txt\", \"w\") as f2:\n",
    "            for num in f1:\n",
    "                num = num.strip()\n",
    "                if int(num) % 2 == 0:\n",
    "                    f2.write(f\"{num} is an even number\\n\")\n",
    "                else:\n",
    "                    f2.write(f\"{num} is a odd number\\n\")"
   ]
  },
  {
   "cell_type": "code",
   "execution_count": 2,
   "metadata": {},
   "outputs": [],
   "source": [
    "odd_even()"
   ]
  },
  {
   "cell_type": "code",
   "execution_count": null,
   "metadata": {},
   "outputs": [],
   "source": []
  }
 ],
 "metadata": {
  "kernelspec": {
   "display_name": "Python 3",
   "language": "python",
   "name": "python3"
  },
  "language_info": {
   "codemirror_mode": {
    "name": "ipython",
    "version": 3
   },
   "file_extension": ".py",
   "mimetype": "text/x-python",
   "name": "python",
   "nbconvert_exporter": "python",
   "pygments_lexer": "ipython3",
   "version": "3.11.2"
  }
 },
 "nbformat": 4,
 "nbformat_minor": 2
}
