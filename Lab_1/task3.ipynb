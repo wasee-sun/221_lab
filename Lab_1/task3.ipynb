{
 "cells": [
  {
   "cell_type": "code",
   "execution_count": 43,
   "metadata": {},
   "outputs": [],
   "source": [
    "def bubbleSort(arr):                                                    \n",
    "    for i in range(len(arr)-1):\n",
    "        for j in range(len(arr)-i-1): \n",
    "            if arr[j][1] < arr[j+1][1]:\n",
    "                arr[j], arr[j+1] = arr[j+1], arr[j]\n",
    "            if arr[j][1] == arr[j+1][1]:\n",
    "                if arr[j][0] > arr[j+1][0]:\n",
    "                    arr[j], arr[j+1] = arr[j+1], arr[j]\n",
    "            \n",
    "    \n",
    "    return arr"
   ]
  },
  {
   "cell_type": "code",
   "execution_count": 44,
   "metadata": {},
   "outputs": [],
   "source": [
    "def ranking():\n",
    "    with open (\"output3.txt\", \"w\") as f2:\n",
    "        f2.write(\"\")\n",
    "    with open(\"input3.txt\", \"r\") as f1:\n",
    "        num_inputs = 0\n",
    "        id_arr = None\n",
    "        mark_arr = None\n",
    "        id_no = False\n",
    "        mark = False\n",
    "        idx = 0\n",
    "        for line in f1:\n",
    "            if len(line.strip()) == 1:\n",
    "                num_inputs = int(line.strip())\n",
    "                id_arr = [0] * num_inputs\n",
    "                mark_arr = [0] * num_inputs\n",
    "                continue\n",
    "            if id_no == False:\n",
    "                for item in line.strip().split():\n",
    "                    id_arr[idx] = int(item)\n",
    "                    idx += 1\n",
    "                idx = 0\n",
    "                id_no = True\n",
    "                continue\n",
    "            if mark == False:\n",
    "                for item in line.strip().split():\n",
    "                    mark_arr[idx] = int(item)\n",
    "                    idx += 1\n",
    "                idx = 0\n",
    "                mark = True\n",
    "                id_mark_arr = [item for item in zip(id_arr, mark_arr)]\n",
    "                with open (\"output3.txt\", \"a\") as f2:\n",
    "                    for iden, markk in bubbleSort(id_mark_arr):\n",
    "                        f2.write(f\"ID: {iden} Mark: {markk}\\n\")\n",
    "                    f2.write(\"\\n\")\n",
    "                id_no = False\n",
    "                mark = False\n",
    "                "
   ]
  },
  {
   "cell_type": "code",
   "execution_count": 45,
   "metadata": {},
   "outputs": [],
   "source": [
    "ranking()"
   ]
  },
  {
   "cell_type": "code",
   "execution_count": null,
   "metadata": {},
   "outputs": [],
   "source": []
  }
 ],
 "metadata": {
  "kernelspec": {
   "display_name": "Python 3",
   "language": "python",
   "name": "python3"
  },
  "language_info": {
   "codemirror_mode": {
    "name": "ipython",
    "version": 3
   },
   "file_extension": ".py",
   "mimetype": "text/x-python",
   "name": "python",
   "nbconvert_exporter": "python",
   "pygments_lexer": "ipython3",
   "version": "3.11.2"
  }
 },
 "nbformat": 4,
 "nbformat_minor": 2
}
