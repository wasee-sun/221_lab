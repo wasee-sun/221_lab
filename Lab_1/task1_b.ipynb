{
 "cells": [
  {
   "cell_type": "code",
   "execution_count": 1,
   "metadata": {},
   "outputs": [],
   "source": [
    "#task 1b\n",
    "def calculate():\n",
    "    with open(\"input1b.txt\", \"r\") as f1:\n",
    "        with open(\"output1b.txt\", \"w\") as f2:\n",
    "            calc_range = int(f1.readline().strip())\n",
    "            for calc in f1:\n",
    "                calc = calc.strip().split()\n",
    "                num1, oper, num2 = int(calc[1]), calc[2], int(calc[3])\n",
    "                if oper == \"+\":\n",
    "                    result = num1 + num2\n",
    "                elif oper == \"-\":\n",
    "                    result = num1 - num2\n",
    "                elif oper == \"*\":\n",
    "                    result = num1 * num2\n",
    "                elif oper == \"/\":\n",
    "                    result = num1 / num2\n",
    "                    \n",
    "                f2.write(f\"The result of {num1} {oper} {num2} is {result}\\n\")"
   ]
  },
  {
   "cell_type": "code",
   "execution_count": 2,
   "metadata": {},
   "outputs": [],
   "source": [
    "calculate()"
   ]
  },
  {
   "cell_type": "code",
   "execution_count": null,
   "metadata": {},
   "outputs": [],
   "source": []
  }
 ],
 "metadata": {
  "kernelspec": {
   "display_name": "Python 3",
   "language": "python",
   "name": "python3"
  },
  "language_info": {
   "codemirror_mode": {
    "name": "ipython",
    "version": 3
   },
   "file_extension": ".py",
   "mimetype": "text/x-python",
   "name": "python",
   "nbconvert_exporter": "python",
   "pygments_lexer": "ipython3",
   "version": "3.11.2"
  }
 },
 "nbformat": 4,
 "nbformat_minor": 2
}
